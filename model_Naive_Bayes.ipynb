{
  "nbformat": 4,
  "nbformat_minor": 0,
  "metadata": {
    "colab": {
      "name": "model-Naive-Bayes.ipynb",
      "provenance": [],
      "collapsed_sections": []
    },
    "kernelspec": {
      "name": "python3",
      "display_name": "Python 3"
    }
  },
  "cells": [
    {
      "cell_type": "markdown",
      "metadata": {
        "id": "8DsFCCkmLNvz",
        "colab_type": "text"
      },
      "source": [
        "# NLP Supervised Learning Using Naive Bayes"
      ]
    },
    {
      "cell_type": "markdown",
      "metadata": {
        "id": "Db_D8uwILuu8",
        "colab_type": "text"
      },
      "source": [
        "## Importing the libraries"
      ]
    },
    {
      "cell_type": "code",
      "metadata": {
        "id": "8ZMj4tDIMBQx",
        "colab_type": "code",
        "colab": {}
      },
      "source": [
        "import numpy as np\n",
        "import matplotlib.pyplot as plt\n",
        "import pandas as pd\n"
      ],
      "execution_count": 16,
      "outputs": []
    },
    {
      "cell_type": "markdown",
      "metadata": {
        "id": "_PHmHQWsId89",
        "colab_type": "text"
      },
      "source": [
        "# Importing the dataset"
      ]
    },
    {
      "cell_type": "code",
      "metadata": {
        "id": "pTU6QN-RIwzH",
        "colab_type": "code",
        "colab": {
          "base_uri": "https://localhost:8080/",
          "height": 143
        },
        "outputId": "117ed7b0-b35e-43c8-fd76-5a654d57f472"
      },
      "source": [
        "dataset = pd.read_csv('alfa_dataset.csv - Sheet1.csv', delimiter = ',')\n",
        "print(dataset.head())\n",
        "print(dataset.shape)"
      ],
      "execution_count": 17,
      "outputs": [
        {
          "output_type": "stream",
          "text": [
            "                                    Log file entries  KB index\n",
            "0  [Mon Feb 12 13:33:43.537781 2018] [autoindex:e...         0\n",
            "1  [Tue Feb 13 21:57:17.848217 2018] [auth_basic:...         1\n",
            "2  [Wed Apr 11 02:20:30.821939 2018] [:error] [pi...         2\n",
            "3  [Fri Apr 20 13:57:53.308061 2018] [:error] [pi...         3\n",
            "4  [Sun Apr 22 18:58:53.006422 2018] [authz_core:...         4\n",
            "(60, 2)\n"
          ],
          "name": "stdout"
        }
      ]
    },
    {
      "cell_type": "markdown",
      "metadata": {
        "id": "0osUvZ2iJqlh",
        "colab_type": "text"
      },
      "source": [
        "# Cleaning the text"
      ]
    },
    {
      "cell_type": "code",
      "metadata": {
        "id": "7tSIhqCOJ3lR",
        "colab_type": "code",
        "colab": {
          "base_uri": "https://localhost:8080/",
          "height": 55
        },
        "outputId": "0f1fa20b-0ce8-41ba-b9e8-17d6a3c733b5"
      },
      "source": [
        "import re\n",
        "import nltk\n",
        "from nltk.stem.porter import PorterStemmer\n",
        "corpus = []\n",
        "for i in range(0, 60):\n",
        "  #print(\"here\", dataset['Log file entries'][i])\n",
        "  log_entry = re.sub(r\"\\[[(\\w+\\d+\\s+:\\.)]+|\\]|/(\\w+/)+|(http(://(\\w+\\.)+))+|(https(://(\\w+\\.)+))+|(\\([\\w+\\.|\\w+,|\\w+\\)|\\w+\\\\|\\.]+)|line(\\s+\\d+)|referer(:\\w+)+|[^a-zA-Z\\s+]|\\d+|\\w+(\\-|_|\\w+)*\\.php|AH|referer|COS|za\", \" \", dataset['Log file entries'][i])\n",
        "  #print(log_entry)\n",
        "  log_entry = log_entry.split()\n",
        "  ps = PorterStemmer()\n",
        "  log_entry = [ps.stem(word) for word in log_entry]\n",
        "  #print(log_entry)\n",
        "  log_entry = ' '.join(log_entry)\n",
        "  #print(log_entry)\n",
        "  corpus.append(log_entry)\n",
        "\n",
        "print(corpus)"
      ],
      "execution_count": 18,
      "outputs": [
        {
          "output_type": "stream",
          "text": [
            "['cannot serv directori No match directoryindex found and server gener directori index forbidden by option direct', 'user u authent failur for password mismatch', 'php warn mysqli connect access deni for user root localhost password NO in on', 'php pars error syntax error unexpect return in on', 'user u authori tion failur for', 'php warn requir onc fail to open stream No such file or directori in on', 'php fatal error requir onc fail open requir dbcon xef xac php php in on', 'php warn requir onc fail to open stream No such file or directori in on', 'php notic undefin variabl salt in on', 'php notic undefin index email in on', 'script not found or unabl to stat', 'php fatal error uncaught error call to undefin function mysqli in nstack trace n includ requir onc studen n main n thrown in on', 'php warn includ fail to open stream No such file or directori in on', 'php warn includ fail open for inclus php php in on', 'php notic use of undefin constant consol assum consol in on', 'php warn log expect paramet to be float string given in on', 'php warn file get content fail to open stream No such file or directori in on', 'php catchabl fatal error object of class movi could not be convert to string in on', 'php notic A session had alreadi been start ignor session start in on', 'php warn miss argument for databas getuserbyemail call in practic on and defin in practic on practic', 'respons header name locat contain invalid charact abort request', 'php warn password hash expect paramet to be integ string given in on', 'php notic tri to get properti of non object in on', 'user u authent failur for password mismatch', 'user u authent failur for password mismatch', 'script not found or unabl to stat', 'script not found or unabl to stat', 'php notic undefin index game in on', 'php notic undefin index add in on', 'php notic undefin index sname in on', 'script not found or unabl to stat', 'php fatal error uncaught error call to undefin function success in practic nstack trace n practic login verifydetail w gmail com ced a n practic logincontrol login main n thrown in practic on', 'php notic use of undefin constant password argon ID assum password argon ID in on', 'php warn password hash expect paramet to be integ string given in on', 'php pars error syntax error unexpect return expect function in on', 'php fatal error uncaught error call to a member function queri on null in nstack trace n signup valid main n thrown in on', 'php fatal error uncaught error call to undefin function success in practic nstack trace n practic login verifydetail w gmail com ced a n practic logincontrol login main n thrown in practic on', 'php warn miss argument for databas getuserbyusernam call in practic on and defin in practic on practic', 'php warn miss argument for databas getuserbyemail call in practic on and defin in practic on practic', 'user u authori tion failur for', 'cannot serv directori No match directoryindex found and server gener directori index forbidden by option direct', 'user u authent failur for password mismatch', 'script not found or unabl to stat', 'php warn requir fail to open stream No such file or directori in on', 'php warn requir fail to open stream No such file or directori in on', 'php pars error syntax error unexpect expect end of file in on', 'php catchabl fatal error object of class movi could not be convert to string in on', 'php notic A session had alreadi been start ignor session start in on', 'user u authent failur for password mismatch', 'php fatal error uncaught error call to undefin function mysqli in nstack trace n includ requir onc studen n main n thrown in on', 'php warn log expect paramet to be float string given in on', 'php warn mysqli connect access deni for user u to databas musicbox in on', 'php notic use of undefin constant consol assum consol in on', 'php notic undefin index titl in on', 'php notic use of undefin constant consol assum consol in on', 'php warn mysqli connect access deni for user root localhost password NO in on', 'php warn requir onc fail to open stream No such file or directori in on', 'php fatal error requir onc fail open requir dbcon xef xac php php in on', 'php notic undefin variabl url in on', 'php notic undefin variabl email in on']\n"
          ],
          "name": "stdout"
        }
      ]
    },
    {
      "cell_type": "markdown",
      "metadata": {
        "id": "-ga0D85a8E_r",
        "colab_type": "text"
      },
      "source": [
        "# Creating the Bag of Words Model"
      ]
    },
    {
      "cell_type": "code",
      "metadata": {
        "id": "nebIYqfT8K9c",
        "colab_type": "code",
        "colab": {}
      },
      "source": [
        "from sklearn.feature_extraction.text import CountVectorizer\n",
        "countVectorizer = CountVectorizer(max_features = 1500)\n",
        "X = countVectorizer.fit_transform(corpus).toarray()\n",
        "y = dataset.iloc[ :, -1].values"
      ],
      "execution_count": 19,
      "outputs": []
    },
    {
      "cell_type": "markdown",
      "metadata": {
        "id": "VlESs0lVoqYv",
        "colab_type": "text"
      },
      "source": [
        "# Splitting the dataset into Training set and Test set"
      ]
    },
    {
      "cell_type": "code",
      "metadata": {
        "id": "JH46-ypJoyKA",
        "colab_type": "code",
        "colab": {}
      },
      "source": [
        "from sklearn.model_selection import train_test_split\n",
        "X_train, X_test, y_train, y_test = train_test_split(X, y, test_size = 0.25, random_state = 0)"
      ],
      "execution_count": 20,
      "outputs": []
    },
    {
      "cell_type": "markdown",
      "metadata": {
        "id": "46EFd8hJo4Uw",
        "colab_type": "text"
      },
      "source": [
        "# Training Naive Bayes Model on the Training set"
      ]
    },
    {
      "cell_type": "code",
      "metadata": {
        "id": "9KAfRLzMpHo8",
        "colab_type": "code",
        "colab": {
          "base_uri": "https://localhost:8080/",
          "height": 35
        },
        "outputId": "6002b83b-9522-4713-e807-431b9b0aa65f"
      },
      "source": [
        "from sklearn.naive_bayes import GaussianNB\n",
        "classifier = GaussianNB()\n",
        "classifier.fit(X_train, y_train)"
      ],
      "execution_count": 21,
      "outputs": [
        {
          "output_type": "execute_result",
          "data": {
            "text/plain": [
              "GaussianNB(priors=None, var_smoothing=1e-09)"
            ]
          },
          "metadata": {
            "tags": []
          },
          "execution_count": 21
        }
      ]
    },
    {
      "cell_type": "markdown",
      "metadata": {
        "id": "KHBwrgpvpM3h",
        "colab_type": "text"
      },
      "source": [
        "# Predicting the test set results"
      ]
    },
    {
      "cell_type": "code",
      "metadata": {
        "id": "LI3BVkb5pSqL",
        "colab_type": "code",
        "colab": {
          "base_uri": "https://localhost:8080/",
          "height": 503
        },
        "outputId": "b68b6e82-f06e-41a2-8469-97968524c772"
      },
      "source": [
        "y_pred = classifier.predict(X_test)\n",
        "print(np.concatenate((y_pred.reshape(len(y_pred),1), y_test.reshape(len(y_test),1)),1))\n",
        "\n",
        "from sklearn.metrics import confusion_matrix, accuracy_score\n",
        "cm = confusion_matrix(y_test, y_pred)\n",
        "print(cm)\n",
        "accuracy_score(y_test, y_pred)"
      ],
      "execution_count": 22,
      "outputs": [
        {
          "output_type": "stream",
          "text": [
            "[[10 10]\n",
            " [11 11]\n",
            " [ 8  8]\n",
            " [ 9  9]\n",
            " [11 11]\n",
            " [ 2  2]\n",
            " [ 3  3]\n",
            " [ 8  8]\n",
            " [ 0  0]\n",
            " [ 9 22]\n",
            " [ 4  4]\n",
            " [10 10]\n",
            " [10 10]\n",
            " [ 1  1]\n",
            " [21 21]]\n",
            "[[1 0 0 0 0 0 0 0 0 0 0]\n",
            " [0 1 0 0 0 0 0 0 0 0 0]\n",
            " [0 0 1 0 0 0 0 0 0 0 0]\n",
            " [0 0 0 1 0 0 0 0 0 0 0]\n",
            " [0 0 0 0 1 0 0 0 0 0 0]\n",
            " [0 0 0 0 0 2 0 0 0 0 0]\n",
            " [0 0 0 0 0 0 1 0 0 0 0]\n",
            " [0 0 0 0 0 0 0 3 0 0 0]\n",
            " [0 0 0 0 0 0 0 0 2 0 0]\n",
            " [0 0 0 0 0 0 0 0 0 1 0]\n",
            " [0 0 0 0 0 0 1 0 0 0 0]]\n"
          ],
          "name": "stdout"
        },
        {
          "output_type": "execute_result",
          "data": {
            "text/plain": [
              "0.9333333333333333"
            ]
          },
          "metadata": {
            "tags": []
          },
          "execution_count": 22
        }
      ]
    }
  ]
}